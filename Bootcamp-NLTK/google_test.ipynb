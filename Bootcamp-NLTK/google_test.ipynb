{
 "cells": [
  {
   "cell_type": "code",
   "execution_count": 1,
   "metadata": {
    "collapsed": true
   },
   "outputs": [],
   "source": [
    "#Given a string S and a set of words D, find the longest word in D that is a subsequence of S.\n",
    "\n",
    "#Word W is a subsequence of S if some number of characters, possibly zero, can be deleted from S to form W, without reordering the remaining characters.\n",
    "\n",
    "#Note: D can appear in any format (list, hash table, prefix tree, etc.\n",
    "#the correct output would be \"apple\"\n",
    "\n",
    "S = \"abppplee\"\n",
    "D = {\"able\", \"ale\", \"apple\", \"bale\", \"kangaroo\"}"
   ]
  },
  {
   "cell_type": "code",
   "execution_count": null,
   "metadata": {
    "collapsed": true
   },
   "outputs": [],
   "source": [
    "max_index = 0\n",
    "index = 0\n",
    "for W in D: \n",
    "    if(W in S):\n",
    "        max_index = index\n",
    "    index +=1"
   ]
  }
 ],
 "metadata": {
  "kernelspec": {
   "display_name": "Python 3",
   "language": "python",
   "name": "python3"
  },
  "language_info": {
   "codemirror_mode": {
    "name": "ipython",
    "version": 3
   },
   "file_extension": ".py",
   "mimetype": "text/x-python",
   "name": "python",
   "nbconvert_exporter": "python",
   "pygments_lexer": "ipython3",
   "version": "3.6.2"
  }
 },
 "nbformat": 4,
 "nbformat_minor": 2
}
