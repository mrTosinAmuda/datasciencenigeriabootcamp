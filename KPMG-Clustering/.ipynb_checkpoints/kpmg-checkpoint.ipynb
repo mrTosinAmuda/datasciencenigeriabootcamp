{
 "cells": [
  {
   "cell_type": "code",
   "execution_count": 2,
   "metadata": {
    "collapsed": true
   },
   "outputs": [],
   "source": [
    "import os\n",
    "import pandas as pd\n",
    "import numpy as np"
   ]
  },
  {
   "cell_type": "code",
   "execution_count": 3,
   "metadata": {},
   "outputs": [],
   "source": [
    "df = pd.read_csv(\"dataset.csv\")"
   ]
  },
  {
   "cell_type": "code",
   "execution_count": 4,
   "metadata": {},
   "outputs": [
    {
     "data": {
      "text/plain": [
       "(array([    0,     0,     0, ..., 42652, 42652, 42652]),\n",
       " array([ 11,  12,  13, ..., 149, 150, 151]))"
      ]
     },
     "execution_count": 4,
     "metadata": {},
     "output_type": "execute_result"
    }
   ],
   "source": [
    "np.where(pd.isnull(df))"
   ]
  },
  {
   "cell_type": "code",
   "execution_count": 5,
   "metadata": {},
   "outputs": [
    {
     "data": {
      "text/plain": [
       "(array([  117,   565,   588,   611,   626,   641,   752,   764,   769,\n",
       "          770,   819,   830,   853,   866,   898,   919,   922,   965,\n",
       "          976,   998,  1001,  1299,  1570,  1621,  2331,  2915,  2942,\n",
       "         3253,  3269,  3840,  3917,  4051,  4182,  4307,  5119,  5180,\n",
       "         5291,  5343,  5500,  5529,  5546,  5560,  5711,  5719,  5734,\n",
       "         5744,  5757,  5773,  5801,  5820,  5837,  5861,  5875,  5880,\n",
       "         5926,  5932,  6297,  8305,  8342,  8395,  8890,  9222,  9240,\n",
       "         9905, 10574, 10581, 10687, 12722, 12866, 12981, 12984, 13034,\n",
       "        13081, 13205, 13211, 13292, 14491, 14505, 14540, 14542, 14631,\n",
       "        14636, 14721, 14751, 14813, 14932, 14961, 14964, 14995, 16059,\n",
       "        16078, 16121, 16213, 16269, 16299, 16334, 16872, 17092, 17142,\n",
       "        17778, 17796, 17807, 17808, 17810, 17994, 18030, 18038, 18098,\n",
       "        18124, 18133, 18187, 18195, 18214, 18224, 18250, 18358, 18364,\n",
       "        18487, 18525, 18701, 18876, 18923, 18925, 18992, 19114, 19162,\n",
       "        19165, 19622, 19964, 20113, 20316, 20328, 20373, 20381, 20384,\n",
       "        20396, 20406, 20414, 20427, 20434, 20452, 20462, 20960, 20983,\n",
       "        20985, 20993, 20998, 21193, 21206, 21281, 21339, 21512, 21722,\n",
       "        22099, 22500, 22530, 22547, 22835, 22934, 22997, 23183, 23349,\n",
       "        23384, 23442, 23472, 23691, 24339, 24365, 24610, 24788, 25017,\n",
       "        25031, 25409, 25412, 25416, 25457, 25491, 25747, 25748, 25846,\n",
       "        26062, 26741, 26746, 26758, 26765, 26771, 26782, 26795, 26803,\n",
       "        26839, 26845, 26855, 26874, 26876, 26891, 27151, 27310, 27567,\n",
       "        28036, 28509, 28585, 28610, 28674, 28718, 29452, 29526, 29598,\n",
       "        29633, 29763, 29826, 29976, 30077, 30149, 30314, 30315, 30682,\n",
       "        31345, 31379, 31386, 31397, 31412, 31870, 32201, 32458, 32623,\n",
       "        32625, 32763, 33664, 34323, 34556, 34559, 35464, 35478, 36579,\n",
       "        36595, 37157, 37217, 37388, 37494, 37907, 38525, 39141, 39397,\n",
       "        39500, 39704, 39752, 39758, 39760, 39769, 39771, 39871, 39883,\n",
       "        39892, 39894, 40023, 40069, 40289, 40841, 41075, 41201, 41202,\n",
       "        41401, 41702, 41705, 41766]),)"
      ]
     },
     "execution_count": 5,
     "metadata": {},
     "output_type": "execute_result"
    }
   ],
   "source": [
    "np.where(pd.isnull(df.Bank))"
   ]
  },
  {
   "cell_type": "code",
   "execution_count": 6,
   "metadata": {},
   "outputs": [],
   "source": [
    "new_df = df.dropna(subset=['Bank'])"
   ]
  },
  {
   "cell_type": "code",
   "execution_count": 7,
   "metadata": {},
   "outputs": [],
   "source": [
    "new_df = new_df.dropna(subset=['Most frequently used Bank'])"
   ]
  },
  {
   "cell_type": "code",
   "execution_count": 8,
   "metadata": {},
   "outputs": [],
   "source": [
    "new_df.RatQOS.fillna(\"No\", inplace=True)"
   ]
  },
  {
   "cell_type": "code",
   "execution_count": 9,
   "metadata": {},
   "outputs": [],
   "source": [
    "new_df.RatFS.fillna(\"No\", inplace=True)\n",
    "new_df.RatIR.fillna(\"No\", inplace=True)\n",
    "new_df.RatERSA.fillna(\"No\", inplace=True)\n",
    "new_df.RatPOBR.fillna(\"No\", inplace=True)\n",
    "new_df.RatRFF.fillna(\"No\", inplace=True)"
   ]
  },
  {
   "cell_type": "code",
   "execution_count": 10,
   "metadata": {},
   "outputs": [],
   "source": [
    "new_df.ATMproximity.fillna(\"No\", inplace=True)\n",
    "new_df.ATMqon.fillna(\"No\", inplace=True)\n",
    "new_df.ATMsecurity.fillna(\"No\", inplace=True)\n",
    "new_df.ATMros.fillna(\"No\", inplace=True)"
   ]
  },
  {
   "cell_type": "code",
   "execution_count": 11,
   "metadata": {},
   "outputs": [],
   "source": [
    "new_df.Device1.fillna(\"No\", inplace=True)\n",
    "new_df.Device2.fillna(\"No\", inplace=True)\n",
    "new_df.Device3.fillna(\"No\", inplace=True)\n",
    "new_df.Device4.fillna(\"No\", inplace=True)"
   ]
  },
  {
   "cell_type": "code",
   "execution_count": 12,
   "metadata": {},
   "outputs": [],
   "source": [
    "new_df = new_df.dropna(subset=['Cshwit2', 'Cshdep2','Fndtrf2','Balenq2','mkgcmp2','Mkgpay2','Gtloan2','Gtfnad2','Bkfxdp2' ])"
   ]
  },
  {
   "cell_type": "code",
   "execution_count": 13,
   "metadata": {},
   "outputs": [],
   "source": [
    "new_df[[\"impcc1a\",\"cc1a\",\"impcc1b\",\"cc1b\",\"impcc2\",\"cc2\",\"impcc3\",\"cc3\",\"impcc4\",\"cc4\",\"impcc4b\",\"cc4b\",\"qosbrn1i\",\"qosbrn1\",\"qosbrn2i\",\"qosbrn2\",\"qosbrn3i\",\"qosbrn3\",\"tat1i\",\"tat1\",\"tat2i\",\"tat2\",\"tat3i\",\"tat3\",\"qosatm1\",\"qosatm1i\",\"qosatm2i\",\"qosatm2\",\"qosatm3i\",\"qosatm3\",\"qosatm4i\",\"qosatm4\",\"qosmob1i\",\"qosmob1\",\"qosmob2i\",\"qosmob2\",\"qosmob3i\",\"qosmob3\",\"qosmob4i\",\"qosmob4\",\"qosmob5i\",\"qosmob5\",\"qosmob6i\",\"qosmob6\",\"qosint1i\",\"qosint1\",\"qosint2i\",\"qosint2\",\"qosint3i\",\"qosint3\",\"qosint4i\",\"qosint4\",\"qosint5i\",\"qosint5\",\"qosint6i\",\"qosint6\",\"qoscct1i\",\"qoscct1\",\"qoscct2i\",\"qoscct2\",\"qoscct3i\",\"qoscct3\",\"qossm1i\",\"qossm1\",\"qossm2i\",\"qossm2\",\"qoscad1i\",\"qoscad1\",\"qoscad2i\",\"qoscad2\",\"qoscad3i\",\"qoscad3\",\"qoscad4i\",\"qoscad4\",\"acci\",\"acc\",\"infi\",\"inf\",\"prd1i\",\"prd1\",\"prd2i\",\"prd2\",\"eas1i\",\"eas1\",\"eas2i\",\"eas2\",\"qosci\",\"qosc\"]] = new_df[[\"impcc1a\",\"cc1a\",\"impcc1b\",\"cc1b\",\"impcc2\",\"cc2\",\"impcc3\",\"cc3\",\"impcc4\",\"cc4\",\"impcc4b\",\"cc4b\",\"qosbrn1i\",\"qosbrn1\",\"qosbrn2i\",\"qosbrn2\",\"qosbrn3i\",\"qosbrn3\",\"tat1i\",\"tat1\",\"tat2i\",\"tat2\",\"tat3i\",\"tat3\",\"qosatm1\",\"qosatm1i\",\"qosatm2i\",\"qosatm2\",\"qosatm3i\",\"qosatm3\",\"qosatm4i\",\"qosatm4\",\"qosmob1i\",\"qosmob1\",\"qosmob2i\",\"qosmob2\",\"qosmob3i\",\"qosmob3\",\"qosmob4i\",\"qosmob4\",\"qosmob5i\",\"qosmob5\",\"qosmob6i\",\"qosmob6\",\"qosint1i\",\"qosint1\",\"qosint2i\",\"qosint2\",\"qosint3i\",\"qosint3\",\"qosint4i\",\"qosint4\",\"qosint5i\",\"qosint5\",\"qosint6i\",\"qosint6\",\"qoscct1i\",\"qoscct1\",\"qoscct2i\",\"qoscct2\",\"qoscct3i\",\"qoscct3\",\"qossm1i\",\"qossm1\",\"qossm2i\",\"qossm2\",\"qoscad1i\",\"qoscad1\",\"qoscad2i\",\"qoscad2\",\"qoscad3i\",\"qoscad3\",\"qoscad4i\",\"qoscad4\",\"acci\",\"acc\",\"infi\",\"inf\",\"prd1i\",\"prd1\",\"prd2i\",\"prd2\",\"eas1i\",\"eas1\",\"eas2i\",\"eas2\",\"qosci\",\"qosc\"]].fillna(value=0)"
   ]
  },
  {
   "cell_type": "code",
   "execution_count": 14,
   "metadata": {},
   "outputs": [],
   "source": [
    "new_df[[\"Payuticash\",\"Payintcash\",\"Paycabcash\",\"Payuti\",\"Payint\",\"Paycab\",\"Mig1\",\"Mig2\",\"Mig3\"]]=new_df[[\"Payuticash\",\"Payintcash\",\"Paycabcash\",\"Payuti\",\"Payint\",\"Paycab\",\"Mig1\",\"Mig2\",\"Mig3\"]].fillna(value=\"No\")"
   ]
  },
  {
   "cell_type": "code",
   "execution_count": 15,
   "metadata": {},
   "outputs": [
    {
     "data": {
      "text/plain": [
       "0         No\n",
       "1         No\n",
       "2        Yes\n",
       "3        Yes\n",
       "4        Yes\n",
       "5        Yes\n",
       "6         No\n",
       "7         No\n",
       "8         No\n",
       "9         No\n",
       "10       Yes\n",
       "11       Yes\n",
       "12        No\n",
       "13        No\n",
       "14        No\n",
       "15        No\n",
       "16        No\n",
       "19        No\n",
       "20        No\n",
       "21        No\n",
       "22        No\n",
       "23        No\n",
       "24        No\n",
       "25        No\n",
       "26        No\n",
       "27        No\n",
       "28        No\n",
       "29        No\n",
       "30        No\n",
       "31        No\n",
       "        ... \n",
       "42623    Yes\n",
       "42624    Yes\n",
       "42625    Yes\n",
       "42626    Yes\n",
       "42627    Yes\n",
       "42628    Yes\n",
       "42629    Yes\n",
       "42630     No\n",
       "42631    Yes\n",
       "42632    Yes\n",
       "42633    Yes\n",
       "42634    Yes\n",
       "42635     No\n",
       "42636     No\n",
       "42637     No\n",
       "42638    Yes\n",
       "42639    Yes\n",
       "42640    Yes\n",
       "42641    Yes\n",
       "42642     No\n",
       "42643     No\n",
       "42644    Yes\n",
       "42645    Yes\n",
       "42646     No\n",
       "42647    Yes\n",
       "42648    Yes\n",
       "42649    Yes\n",
       "42650     No\n",
       "42651     No\n",
       "42652     No\n",
       "Name: Payuticash, Length: 38839, dtype: object"
      ]
     },
     "execution_count": 15,
     "metadata": {},
     "output_type": "execute_result"
    }
   ],
   "source": [
    "new_df.Payuticash"
   ]
  },
  {
   "cell_type": "code",
   "execution_count": 16,
   "metadata": {
    "collapsed": true,
    "slideshow": {
     "slide_type": "-"
    }
   },
   "outputs": [],
   "source": [
    "new_df.to_csv('kpmg_clean.csv')"
   ]
  },
  {
   "cell_type": "code",
   "execution_count": 17,
   "metadata": {},
   "outputs": [
    {
     "data": {
      "text/plain": [
       "array(['Never', 'Rarely', 'At least once a week', 'Monthly', 'No Response',\n",
       "       'At Least once a day'], dtype=object)"
      ]
     },
     "execution_count": 17,
     "metadata": {},
     "output_type": "execute_result"
    }
   ],
   "source": [
    "new_df.FreqMob.unique()"
   ]
  },
  {
   "cell_type": "code",
   "execution_count": 20,
   "metadata": {},
   "outputs": [
    {
     "data": {
      "text/plain": [
       "Index(['Quest No', 'Age', 'Gender', 'Employment Category', 'Education',\n",
       "       'Income', 'Location', 'Bank', 'No of Years ',\n",
       "       'Most frequently used Bank',\n",
       "       ...\n",
       "       'Payint', 'Paycab', 'Mig1', 'Mig2', 'Mig3', 'Rec', 'Changeplan',\n",
       "       'FromBank', 'ToBank', 'ChangeReasons'],\n",
       "      dtype='object', length=152)"
      ]
     },
     "execution_count": 20,
     "metadata": {},
     "output_type": "execute_result"
    }
   ],
   "source": [
    "new_df.columns"
   ]
  },
  {
   "cell_type": "code",
   "execution_count": 21,
   "metadata": {},
   "outputs": [
    {
     "data": {
      "text/plain": [
       "Index(['Quest No', 'Age', 'Gender', 'Employment Category', 'Education',\n",
       "       'Income', 'Location', 'Bank', 'No of Years ',\n",
       "       'Most frequently used Bank',\n",
       "       ...\n",
       "       'Payint', 'Paycab', 'Mig1', 'Mig2', 'Mig3', 'Rec', 'Changeplan',\n",
       "       'FromBank', 'ToBank', 'ChangeReasons'],\n",
       "      dtype='object', length=152)"
      ]
     },
     "execution_count": 21,
     "metadata": {},
     "output_type": "execute_result"
    }
   ],
   "source": [
    "new_df.columns"
   ]
  },
  {
   "cell_type": "code",
   "execution_count": null,
   "metadata": {
    "collapsed": true
   },
   "outputs": [],
   "source": []
  },
  {
   "cell_type": "code",
   "execution_count": null,
   "metadata": {},
   "outputs": [],
   "source": []
  }
 ],
 "metadata": {
  "kernelspec": {
   "display_name": "Python 3",
   "language": "python",
   "name": "python3"
  },
  "language_info": {
   "codemirror_mode": {
    "name": "ipython",
    "version": 3
   },
   "file_extension": ".py",
   "mimetype": "text/x-python",
   "name": "python",
   "nbconvert_exporter": "python",
   "pygments_lexer": "ipython3",
   "version": "3.6.2"
  }
 },
 "nbformat": 4,
 "nbformat_minor": 2
}
